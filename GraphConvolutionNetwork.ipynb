{
 "cells": [
  {
   "cell_type": "markdown",
   "metadata": {},
   "source": [
    "# GCL Tutorial"
   ]
  },
  {
   "cell_type": "code",
   "execution_count": 2,
   "metadata": {},
   "outputs": [
    {
     "name": "stderr",
     "output_type": "stream",
     "text": [
      "UsageError: unrecognized arguments: #For output of the visualizations to be in the notebook\n"
     ]
    }
   ],
   "source": [
    "%matplotlib inline #For output of the visualizations to be in the notebook\n",
    "import time  #importing time  "
   ]
  },
  {
   "cell_type": "code",
   "execution_count": 3,
   "metadata": {},
   "outputs": [],
   "source": [
    "import dgl #importing DGL library\n",
    "\n",
    "def build_karate_club_graph():   #Building the standard karate club graph from GCN paper\n",
    "    g = dgl.DGLGraph()\n",
    "    # add 34 nodes into the graph; nodes are labeled from 0~33\n",
    "    g.add_nodes(34)\n",
    "    # all 78 edges as a list of tuples\n",
    "    edge_list = [(1, 0), (2, 0), (2, 1), (3, 0), (3, 1), (3, 2),\n",
    "        (4, 0), (5, 0), (6, 0), (6, 4), (6, 5), (7, 0), (7, 1),\n",
    "        (7, 2), (7, 3), (8, 0), (8, 2), (9, 2), (10, 0), (10, 4),\n",
    "        (10, 5), (11, 0), (12, 0), (12, 3), (13, 0), (13, 1), (13, 2),\n",
    "        (13, 3), (16, 5), (16, 6), (17, 0), (17, 1), (19, 0), (19, 1),\n",
    "        (21, 0), (21, 1), (25, 23), (25, 24), (27, 2), (27, 23),\n",
    "        (27, 24), (28, 2), (29, 23), (29, 26), (30, 1), (30, 8),\n",
    "        (31, 0), (31, 24), (31, 25), (31, 28), (32, 2), (32, 8),\n",
    "        (32, 14), (32, 15), (32, 18), (32, 20), (32, 22), (32, 23),\n",
    "        (32, 29), (32, 30), (32, 31), (33, 8), (33, 9), (33, 13),\n",
    "        (33, 14), (33, 15), (33, 18), (33, 19), (33, 20), (33, 22),\n",
    "        (33, 23), (33, 26), (33, 27), (33, 28), (33, 29), (33, 30),\n",
    "        (33, 31), (33, 32)]\n",
    "    # add edges two lists of nodes: src and dst\n",
    "    src, dst = tuple(zip(*edge_list))\n",
    "    g.add_edges(src, dst)\n",
    "    # edges are directional in DGL; make them bi-directional\n",
    "    g.add_edges(dst, src)\n",
    "\n",
    "    return g"
   ]
  },
  {
   "cell_type": "code",
   "execution_count": 4,
   "metadata": {},
   "outputs": [],
   "source": [
    "G = build_karate_club_graph()"
   ]
  },
  {
   "cell_type": "code",
   "execution_count": 5,
   "metadata": {},
   "outputs": [],
   "source": [
    "import networkx as nx\n",
    "nx_G = G.to_networkx().to_undirected()"
   ]
  },
  {
   "cell_type": "code",
   "execution_count": 6,
   "metadata": {},
   "outputs": [],
   "source": [
    "import torch\n",
    "\n",
    "G.ndata['feat'] = torch.eye(34)"
   ]
  },
  {
   "cell_type": "code",
   "execution_count": 7,
   "metadata": {},
   "outputs": [],
   "source": [
    "import torch.nn as nn\n",
    "import torch.nn.functional as F\n",
    "\n",
    "def gcn_message(edges):\n",
    "    \n",
    "    return {'msg' : edges.src['h']}\n",
    "\n",
    "def gcn_reduce(nodes):\n",
    "    \n",
    "    return {'h' : torch.sum(nodes.mailbox['msg'], dim=1)}\n",
    "\n",
    "class GCNLayer(nn.Module):\n",
    "    def __init__(self, in_features, out_features):\n",
    "        super(GCNLayer, self).__init__()\n",
    "        self.linear = nn.Linear(in_features, out_features)\n",
    "    \n",
    "    def forward(self, g, inputs):\n",
    "        g.ndata['h'] = inputs\n",
    "        \n",
    "        g.send(g.edges(), gcn_message)\n",
    "        \n",
    "        g.recv(g.nodes(), gcn_reduce)\n",
    "        \n",
    "        h = g.ndata.pop('h')\n",
    "        \n",
    "        return self.linear(h)"
   ]
  },
  {
   "cell_type": "code",
   "execution_count": 8,
   "metadata": {},
   "outputs": [],
   "source": [
    "#Defining a 2 layer GCN model\n",
    "class GCN(nn.Module):\n",
    "    def __init__(self, in_features, hidden_size, num_classes):\n",
    "        super(GCN, self).__init__()\n",
    "        self.gcn1 = GCNLayer(in_features, hidden_size)\n",
    "        self.gcn2 = GCNLayer(hidden_size, num_classes)\n",
    "    def forward(self, g, inputs):\n",
    "        h = self.gcn1(g, inputs)\n",
    "        h = torch.relu(h)\n",
    "        h = self.gcn2(g, h)\n",
    "        return h\n",
    "net = GCN(34, 5, 2)"
   ]
  },
  {
   "cell_type": "code",
   "execution_count": 9,
   "metadata": {},
   "outputs": [],
   "source": [
    "inputs = torch.eye(34)\n",
    "labeled_nodes = torch.tensor([0, 33])\n",
    "labels = torch.tensor([0, 1])"
   ]
  },
  {
   "cell_type": "code",
   "execution_count": 10,
   "metadata": {},
   "outputs": [
    {
     "name": "stderr",
     "output_type": "stream",
     "text": [
      "/home/ronit/.conda/envs/mll/lib/python3.6/site-packages/dgl/base.py:18: UserWarning: Initializer is not set. Use zero initializer instead. To suppress this warning, use `set_initializer` to explicitly specify which initializer to use.\n",
      "  warnings.warn(msg)\n"
     ]
    },
    {
     "name": "stdout",
     "output_type": "stream",
     "text": [
      "Epoch 0 | Loss : 0.6927\n",
      "Epoch 1 | Loss : 0.5260\n",
      "Epoch 2 | Loss : 0.4051\n",
      "Epoch 3 | Loss : 0.3284\n",
      "Epoch 4 | Loss : 0.2750\n",
      "Epoch 5 | Loss : 0.2321\n",
      "Epoch 6 | Loss : 0.1936\n",
      "Epoch 7 | Loss : 0.1560\n",
      "Epoch 8 | Loss : 0.1222\n",
      "Epoch 9 | Loss : 0.0934\n",
      "Epoch 10 | Loss : 0.0696\n",
      "Epoch 11 | Loss : 0.0516\n",
      "Epoch 12 | Loss : 0.0384\n",
      "Epoch 13 | Loss : 0.0288\n",
      "Epoch 14 | Loss : 0.0218\n",
      "Epoch 15 | Loss : 0.0166\n",
      "Epoch 16 | Loss : 0.0127\n",
      "Epoch 17 | Loss : 0.0099\n",
      "Epoch 18 | Loss : 0.0077\n",
      "Epoch 19 | Loss : 0.0061\n",
      "Epoch 20 | Loss : 0.0049\n",
      "Epoch 21 | Loss : 0.0040\n",
      "Epoch 22 | Loss : 0.0033\n",
      "Epoch 23 | Loss : 0.0028\n",
      "Epoch 24 | Loss : 0.0023\n",
      "Epoch 25 | Loss : 0.0020\n",
      "Epoch 26 | Loss : 0.0017\n",
      "Epoch 27 | Loss : 0.0015\n",
      "Epoch 28 | Loss : 0.0013\n",
      "Epoch 29 | Loss : 0.0011\n"
     ]
    }
   ],
   "source": [
    "optimizer = torch.optim.Adam(net.parameters(), lr=0.01)\n",
    "all_logits = []\n",
    "for epoch in range(30):\n",
    "    logits = net(G, inputs)\n",
    "    \n",
    "    all_logits.append(logits.detach())\n",
    "    \n",
    "    logp = F.log_softmax(logits, 1)\n",
    "    \n",
    "    loss = F.nll_loss(logp[labeled_nodes], labels)\n",
    "    \n",
    "    optimizer.zero_grad()\n",
    "    \n",
    "    loss.backward()\n",
    "    \n",
    "    optimizer.step()\n",
    "    \n",
    "    print('Epoch %d | Loss : %.4f' % (epoch, loss.item()))"
   ]
  },
  {
   "cell_type": "code",
   "execution_count": 11,
   "metadata": {},
   "outputs": [
    {
     "name": "stderr",
     "output_type": "stream",
     "text": [
      "/home/ronit/.conda/envs/mll/lib/python3.6/site-packages/networkx/drawing/nx_pylab.py:611: MatplotlibDeprecationWarning: isinstance(..., numbers.Number)\n",
      "  if cb.is_numlike(alpha):\n"
     ]
    },
    {
     "ename": "NameError",
     "evalue": "name 'time' is not defined",
     "output_type": "error",
     "traceback": [
      "\u001b[0;31m---------------------------------------------------------------------------\u001b[0m",
      "\u001b[0;31mNameError\u001b[0m                                 Traceback (most recent call last)",
      "\u001b[0;32m<ipython-input-11-c655f135c7f4>\u001b[0m in \u001b[0;36m<module>\u001b[0;34m\u001b[0m\n\u001b[1;32m     22\u001b[0m \u001b[0;32mfor\u001b[0m \u001b[0mi\u001b[0m \u001b[0;32min\u001b[0m \u001b[0mrange\u001b[0m\u001b[0;34m(\u001b[0m\u001b[0;36m0\u001b[0m\u001b[0;34m,\u001b[0m\u001b[0;36m10\u001b[0m\u001b[0;34m)\u001b[0m\u001b[0;34m:\u001b[0m\u001b[0;34m\u001b[0m\u001b[0;34m\u001b[0m\u001b[0m\n\u001b[1;32m     23\u001b[0m     \u001b[0mdraw\u001b[0m\u001b[0;34m(\u001b[0m\u001b[0mi\u001b[0m\u001b[0;34m)\u001b[0m\u001b[0;34m\u001b[0m\u001b[0;34m\u001b[0m\u001b[0m\n\u001b[0;32m---> 24\u001b[0;31m     \u001b[0mtime\u001b[0m\u001b[0;34m.\u001b[0m\u001b[0msleep\u001b[0m\u001b[0;34m(\u001b[0m\u001b[0;36m10\u001b[0m\u001b[0;34m)\u001b[0m\u001b[0;34m\u001b[0m\u001b[0;34m\u001b[0m\u001b[0m\n\u001b[0m",
      "\u001b[0;31mNameError\u001b[0m: name 'time' is not defined"
     ]
    }
   ],
   "source": [
    "import matplotlib.animation as animation\n",
    "import matplotlib.pyplot as plt\n",
    "\n",
    "def draw(i):\n",
    "    cls1color = '#00FFFF'\n",
    "    cls2color = '#FF00FF'\n",
    "    pos = {}\n",
    "    colors = []\n",
    "    for v in range(34):\n",
    "        pos[v] = all_logits[i][v].numpy()\n",
    "        cls = pos[v].argmax()\n",
    "        colors.append(cls1color if cls else cls2color)\n",
    "    ax.cla()\n",
    "    ax.axis('off')\n",
    "    ax.set_title('Epoch: %d' % i)\n",
    "    nx.draw_networkx(nx_G.to_undirected(), pos, node_color=colors,with_labels=True, node_size=300, ax=ax)\n",
    "\n",
    "fig = plt.figure(dpi=150)\n",
    "fig.clf()\n",
    "ax = fig.subplots()\n",
    "# draw the prediction of the first epoch\n",
    "for i in range(0,10):\n",
    "    draw(i)\n",
    "    time.sleep(10)"
   ]
  },
  {
   "cell_type": "code",
   "execution_count": null,
   "metadata": {},
   "outputs": [],
   "source": [
    "ani = animation.FuncAnimation(fig, draw, frames=len(all_logits), interval=500)"
   ]
  },
  {
   "cell_type": "code",
   "execution_count": 80,
   "metadata": {},
   "outputs": [
    {
     "name": "stderr",
     "output_type": "stream",
     "text": [
      "/home/ronit/.conda/envs/mll/lib/python3.6/site-packages/networkx/drawing/nx_pylab.py:611: MatplotlibDeprecationWarning: isinstance(..., numbers.Number)\n",
      "  if cb.is_numlike(alpha):\n"
     ]
    }
   ],
   "source": [
    "ani.save('basic_animation.mp4', fps=10, extra_args=['-vcodec', 'libx264'])"
   ]
  },
  {
   "cell_type": "code",
   "execution_count": null,
   "metadata": {},
   "outputs": [],
   "source": []
  }
 ],
 "metadata": {
  "kernelspec": {
   "display_name": "Python 3",
   "language": "python",
   "name": "python3"
  },
  "language_info": {
   "codemirror_mode": {
    "name": "ipython",
    "version": 3
   },
   "file_extension": ".py",
   "mimetype": "text/x-python",
   "name": "python",
   "nbconvert_exporter": "python",
   "pygments_lexer": "ipython3",
   "version": "3.6.7"
  }
 },
 "nbformat": 4,
 "nbformat_minor": 2
}
