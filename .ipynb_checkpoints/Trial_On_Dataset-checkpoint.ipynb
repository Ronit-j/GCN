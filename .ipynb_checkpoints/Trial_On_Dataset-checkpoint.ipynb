{
 "cells": [
  {
   "cell_type": "code",
   "execution_count": 15,
   "metadata": {},
   "outputs": [],
   "source": [
    "%matplotlib inline"
   ]
  },
  {
   "cell_type": "markdown",
   "metadata": {},
   "source": [
    "Model Overview\n",
    "------------------------------------------\n",
    "GCN from the perspective of message passing\n",
    "```````````````````````````````````````````````\n",
    "We describe a layer of graph convolutional neural network from a message\n",
    "passing perspective; the math can be found `here <math_>`_.\n",
    "It boils down to the following step, for each node $u$:\n",
    "\n",
    "1) Aggregate neighbors' representations $h_{v}$ to produce an\n",
    "intermediate representation $\\hat{h}_u$.  2) Transform the aggregated\n",
    "representation $\\hat{h}_{u}$ with a linear projection followed by a\n",
    "non-linearity: $h_{u} = f(W_{u} \\hat{h}_u)$.\n",
    "\n",
    "We will implement step 1 with DGL message passing, and step 2 with the\n",
    "``apply_nodes`` method, whose node UDF will be a PyTorch ``nn.Module``.\n",
    "\n",
    "GCN implementation with DGL\n",
    "``````````````````````````````````````````\n",
    "We first define the message and reduce function as usual.  Since the\n",
    "aggregation on a node $u$ only involves summing over the neighbors'\n",
    "representations $h_v$, we can simply use builtin functions:\n",
    "\n"
   ]
  },
  {
   "cell_type": "code",
   "execution_count": null,
   "metadata": {},
   "outputs": [],
   "source": []
  },
  {
   "cell_type": "markdown",
   "metadata": {},
   "source": [
    "We then define the node UDF for ``apply_nodes``, which is a fully-connected layer:\n",
    "\n"
   ]
  },
  {
   "cell_type": "code",
   "execution_count": 16,
   "metadata": {},
   "outputs": [],
   "source": [
    "import dgl\n",
    "import dgl.function as fn\n",
    "import torch as th\n",
    "import torch.nn as nn\n",
    "import torch.nn.functional as F\n",
    "from dgl import DGLGraph\n",
    "#message passing and reduce functions\n",
    "gcn_msg = fn.copy_src(src='h', out='m')\n",
    "gcn_reduce = fn.sum(msg='m', out='h')\n",
    "\n",
    "class NodeApplyModule(nn.Module):\n",
    "    def __init__(self, in_feats, out_feats, activation):\n",
    "        super(NodeApplyModule, self).__init__()\n",
    "        self.linear = nn.Linear(in_feats, out_feats)\n",
    "        self.activation = activation\n",
    "\n",
    "    def forward(self, node):\n",
    "        h = self.linear(node.data['h'])\n",
    "        h = self.activation(h)\n",
    "        return {'h' : h}\n",
    "class GCN(nn.Module):\n",
    "    def __init__(self, in_feats, out_feats, activation):\n",
    "        super(GCN, self).__init__()\n",
    "        self.apply_mod = NodeApplyModule(in_feats, out_feats, activation)\n",
    "\n",
    "    def forward(self, g, feature):\n",
    "        g.ndata['h'] = feature\n",
    "        g.update_all(gcn_msg, gcn_reduce)\n",
    "        g.apply_nodes(func=self.apply_mod)\n",
    "        return g.ndata.pop('h')\n",
    "class Net(nn.Module):\n",
    "    def __init__(self):\n",
    "        super(Net, self).__init__()\n",
    "        self.gcn1 = GCN(2, 8, F.relu)\n",
    "        self.gcn2 = GCN(8, 2, F.relu)\n",
    "    \n",
    "    def forward(self, g, features):\n",
    "        x = self.gcn1(g, features)\n",
    "        x = self.gcn2(g, x)\n",
    "        return x\n",
    "net = Net()"
   ]
  },
  {
   "cell_type": "markdown",
   "metadata": {},
   "source": [
    "We then proceed to define the GCN module. A GCN layer essentially performs\n",
    "message passing on all the nodes then applies the `NodeApplyModule`. Note\n",
    "that we omitted the dropout in the paper for simplicity.\n",
    "\n"
   ]
  },
  {
   "cell_type": "code",
   "execution_count": null,
   "metadata": {},
   "outputs": [],
   "source": []
  },
  {
   "cell_type": "markdown",
   "metadata": {},
   "source": [
    "The forward function is essentially the same as any other commonly seen NNs\n",
    "model in PyTorch.  We can initialize GCN like any ``nn.Module``. For example,\n",
    "let's define a simple neural network consisting of two GCN layers. Suppose we\n",
    "are training the classifier for the cora dataset (the input feature size is\n",
    "1433 and the number of classes is 7).\n",
    "\n"
   ]
  },
  {
   "cell_type": "code",
   "execution_count": null,
   "metadata": {},
   "outputs": [],
   "source": []
  },
  {
   "cell_type": "markdown",
   "metadata": {},
   "source": [
    "We load the cora dataset using DGL's built-in data module.\n",
    "\n"
   ]
  },
  {
   "cell_type": "code",
   "execution_count": 27,
   "metadata": {},
   "outputs": [],
   "source": [
    "import matplotlib.pyplot as plt\n",
    "def plot_my_graph(g):\n",
    "    fig, ax = plt.subplots()\n",
    "    nx.draw(g.to_networkx(),ax=ax)\n",
    "\n",
    "import torch\n",
    "import networkx as nx\n",
    "def load_my_own_data():\n",
    "    g = dgl.DGLGraph()\n",
    "    g.add_nodes(12)\n",
    "    g1 = dgl.DGLGraph()\n",
    "    g1.add_nodes(12)\n",
    "    #change this clean it and document.\n",
    "    features = th.FloatTensor([[0,1],[0,1],[0,1],[0,1],[0,1],[1,0],[1,0],[1,0],[1,0],[1,0],[0,0],[0,0]])\n",
    "    #label: 0 - acceptable to interrupt, 1 not acceptable to interrupt\n",
    "    labels = th.LongTensor([0,0,0,0,0,1,1,1,1,1,0,0])\n",
    "    g.add_edges(0,[1,2,3,4,5,6,7,8,9,10,11])\n",
    "    g.add_edges(1,2)\n",
    "    g.add_edges(2,1)\n",
    "    g.add_edges(1,3)\n",
    "    g.add_edges(1,3)\n",
    "    g.add_edges(2,3)\n",
    "    g.add_edges(3,4)\n",
    "    g.add_edges(4,5)\n",
    "    g.add_edges(5,6)\n",
    "    g.add_edges(6,5)\n",
    "    g.add_edges(5,7)\n",
    "    g.add_edges(7,5)\n",
    "    g.add_edges(7,6)\n",
    "    g.add_edges(6,7)\n",
    "    g1.add_edges(0,[0,1,2,3,4,5,6,7,8,9,10,11])\n",
    "    g1.add_edges(1,2)\n",
    "    g1.add_edges(2,1)\n",
    "    g1.add_edges(1,3)\n",
    "    g1.add_edges(2,3)\n",
    "    g1.add_edges(2,4)\n",
    "    g1.add_edges(4,2)\n",
    "    g1.add_edges(3,4)\n",
    "    g1.add_edges(4,5)\n",
    "    g1.add_edges(5,6)\n",
    "    g1.add_edges(6,5)\n",
    "    g1.add_edges(5,7)\n",
    "    g1.add_edges(7,5)\n",
    "    g1.add_edges(7,6)\n",
    "    g1.add_edges(6,7)\n",
    "    g1.add_edges(8,9)\n",
    "    g1.add_edges(9,8)\n",
    "    labels2 = th.LongTensor([1,0,0,0,1,1,1,1,1,1,0,0])\n",
    "    features2 = th.FloatTensor([[1,0],[0,1],[0,1],[0,1],[1,1],[1,0],[1,0],[1,0],[1,0],[1,0],[0,0],[0,0]])\n",
    "    #creating mask for generating the cross_entropy loss / nll_loss\n",
    "    mask = torch.ByteTensor([1,1,1,1,1,1,1,1,1,1,1,1])\n",
    "    print(mask)    \n",
    "    return g, features, labels, mask, g1, features2, labels2"
   ]
  },
  {
   "cell_type": "markdown",
   "metadata": {},
   "source": [
    "We then train the network as follows:\n",
    "\n"
   ]
  },
  {
   "cell_type": "code",
   "execution_count": 28,
   "metadata": {},
   "outputs": [
    {
     "name": "stdout",
     "output_type": "stream",
     "text": [
      "tensor([1, 1, 1, 1, 1, 1, 1, 1, 1, 1, 1, 1], dtype=torch.uint8)\n",
      "tensor([1, 1, 1, 1, 1, 1, 1, 1, 1, 1, 1, 1], dtype=torch.uint8)\n"
     ]
    },
    {
     "data": {
      "image/png": "[encoded data removed]",
      "text/plain": [
       "<Figure size 432x288 with 1 Axes>"
      ]
     },
     "metadata": {},
     "output_type": "display_data"
    },
    {
     "data": {
      "image/png": "[encoded data removed]",
      "text/plain": [
       "<Figure size 432x288 with 1 Axes>"
      ]
     },
     "metadata": {},
     "output_type": "display_data"
    }
   ],
   "source": [
    "load_my_own_data()\n",
    "g, features, labels, mask, g1, feature2, labels2 = load_my_own_data()\n",
    "plot_my_graph(g)\n",
    "plot_my_graph(g1)"
   ]
  },
  {
   "cell_type": "code",
   "execution_count": 29,
   "metadata": {},
   "outputs": [
    {
     "data": {
      "image/png": "[encoded data removed]",
      "text/plain": [
       "<Figure size 432x288 with 1 Axes>"
      ]
     },
     "metadata": {},
     "output_type": "display_data"
    }
   ],
   "source": [
    "import dgl\n",
    "bg = dgl.batch([g,g1])\n",
    "plot_my_graph(bg)"
   ]
  },
  {
   "cell_type": "code",
   "execution_count": 30,
   "metadata": {},
   "outputs": [
    {
     "name": "stdout",
     "output_type": "stream",
     "text": [
      "tensor([1, 1, 1, 1, 1, 1, 1, 1, 1, 1, 1, 1], dtype=torch.uint8)\n",
      "Epoch 00000 | Loss 0.4695 | Time(s) nan\n",
      "Epoch 00001 | Loss 0.4681 | Time(s) nan\n",
      "Epoch 00002 | Loss 0.4667 | Time(s) nan\n",
      "Epoch 00003 | Loss 0.4654 | Time(s) 0.0049\n",
      "Epoch 00004 | Loss 0.4640 | Time(s) 0.0051\n",
      "Epoch 00005 | Loss 0.4626 | Time(s) 0.0044\n",
      "Epoch 00006 | Loss 0.4612 | Time(s) 0.0040\n",
      "Epoch 00007 | Loss 0.4599 | Time(s) 0.0039\n",
      "Epoch 00008 | Loss 0.4585 | Time(s) 0.0040\n",
      "Epoch 00009 | Loss 0.4571 | Time(s) 0.0040\n",
      "Epoch 00010 | Loss 0.4558 | Time(s) 0.0040\n",
      "Epoch 00011 | Loss 0.4544 | Time(s) 0.0038\n",
      "Epoch 00012 | Loss 0.4531 | Time(s) 0.0036\n",
      "Epoch 00013 | Loss 0.4518 | Time(s) 0.0034\n",
      "Epoch 00014 | Loss 0.4504 | Time(s) 0.0032\n",
      "Epoch 00015 | Loss 0.4491 | Time(s) 0.0031\n",
      "Epoch 00016 | Loss 0.4478 | Time(s) 0.0030\n",
      "Epoch 00017 | Loss 0.4465 | Time(s) 0.0029\n",
      "Epoch 00018 | Loss 0.4452 | Time(s) 0.0028\n",
      "Epoch 00019 | Loss 0.4439 | Time(s) 0.0028\n",
      "Epoch 00020 | Loss 0.4426 | Time(s) 0.0029\n",
      "Epoch 00021 | Loss 0.4413 | Time(s) 0.0028\n",
      "Epoch 00022 | Loss 0.4400 | Time(s) 0.0027\n",
      "Epoch 00023 | Loss 0.4387 | Time(s) 0.0027\n",
      "Epoch 00024 | Loss 0.4375 | Time(s) 0.0026\n",
      "Epoch 00025 | Loss 0.4362 | Time(s) 0.0026\n",
      "Epoch 00026 | Loss 0.4350 | Time(s) 0.0025\n",
      "Epoch 00027 | Loss 0.4337 | Time(s) 0.0025\n",
      "Epoch 00028 | Loss 0.4325 | Time(s) 0.0025\n",
      "Epoch 00029 | Loss 0.4313 | Time(s) 0.0024\n"
     ]
    },
    {
     "data": {
      "image/png": "[encoded data removed]",
      "text/plain": [
       "<Figure size 432x288 with 1 Axes>"
      ]
     },
     "metadata": {
      "needs_background": "light"
     },
     "output_type": "display_data"
    },
    {
     "name": "stdout",
     "output_type": "stream",
     "text": [
      "tensor([[0.3859, 0.6141],\n",
      "        [0.2348, 0.7652],\n",
      "        [0.2945, 0.7055],\n",
      "        [0.1624, 0.8376],\n",
      "        [0.2503, 0.7497],\n",
      "        [0.0305, 0.9695],\n",
      "        [0.0283, 0.9717],\n",
      "        [0.0283, 0.9717],\n",
      "        [0.1856, 0.8144],\n",
      "        [0.1856, 0.8144],\n",
      "        [0.3859, 0.6141],\n",
      "        [0.3859, 0.6141]], grad_fn=<SoftmaxBackward>)\n",
      "tensor([[0.0000, 0.4644],\n",
      "        [0.0000, 1.1815],\n",
      "        [0.3085, 1.1823],\n",
      "        [0.0332, 1.6736],\n",
      "        [0.3101, 1.4072],\n",
      "        [0.0000, 3.4607],\n",
      "        [0.0000, 3.5345],\n",
      "        [0.0000, 3.5345],\n",
      "        [0.0000, 1.4786],\n",
      "        [0.0000, 1.4786],\n",
      "        [0.0000, 0.4644],\n",
      "        [0.0000, 0.4644]], grad_fn=<ReluBackward0>)\n",
      "tensor(0.6390, grad_fn=<NllLossBackward>)\n"
     ]
    },
    {
     "name": "stderr",
     "output_type": "stream",
     "text": [
      "/home/ronit/.conda/envs/mll/lib/python3.6/site-packages/ipykernel_launcher.py:31: UserWarning: Implicit dimension choice for softmax has been deprecated. Change the call to include dim=X as an argument.\n"
     ]
    }
   ],
   "source": [
    "import time\n",
    "import numpy as np\n",
    "import matplotlib.pyplot as plt\n",
    "\n",
    "g, features, labels, mask, g1, feature2, labels2 = load_my_own_data()\n",
    "optimizer = th.optim.Adam(net.parameters(), lr=1e-3)\n",
    "dur = []\n",
    "epoch_loss = 0\n",
    "epoch_losses = []\n",
    "for epoch in range(30):\n",
    "    if epoch >=3:\n",
    "        t0 = time.time()\n",
    "    logits = net(g, features)\n",
    "    logp = F.log_softmax(logits,1)\n",
    "    loss = F.cross_entropy(logp[mask], labels[mask])\n",
    "    optimizer.zero_grad()\n",
    "    loss.backward()\n",
    "    optimizer.step()\n",
    "    \n",
    "    if epoch >=3:\n",
    "        dur.append(time.time() - t0)\n",
    "    epoch_loss = loss.item()\n",
    "    print(\"Epoch {:05d} | Loss {:.4f} | Time(s) {:.4f}\".format(epoch, loss.item(), np.mean(dur)))\n",
    "    epoch_losses.append(epoch_loss)\n",
    "import matplotlib.pyplot as plt\n",
    "plt.plot(epoch_losses)\n",
    "plt.show()\n",
    "logits = net(g1, feature2)\n",
    "logp = F.log_softmax(logits,1)\n",
    "loss = F.cross_entropy(logits[mask], labels2[mask])\n",
    "print(F.softmax(logits))\n",
    "print(logits)\n",
    "\n",
    "print(loss)\n"
   ]
  },
  {
   "cell_type": "markdown",
   "metadata": {},
   "source": [
    "\n",
    "GCN in one formula\n",
    "------------------\n",
    "Mathematically, the GCN model follows this formula:\n",
    "\n",
    "$H^{(l+1)} = \\sigma(\\tilde{D}^{-\\frac{1}{2}}\\tilde{A}\\tilde{D}^{-\\frac{1}{2}}H^{(l)}W^{(l)})$\n",
    "\n",
    "Here, $H^{(l)}$ denotes the $l^{th}$ layer in the network,\n",
    "$\\sigma$ is the non-linearity, and $W$ is the weight matrix for\n",
    "this layer. $D$ and $A$, as commonly seen, represent degree\n",
    "matrix and adjacency matrix, respectively. The ~ is a renormalization trick\n",
    "in which we add a self-connection to each node of the graph, and build the\n",
    "corresponding degree and adjacency matrix.  The shape of the input\n",
    "$H^{(0)}$ is $N \\times D$, where $N$ is the number of nodes\n",
    "and $D$ is the number of input features. We can chain up multiple\n",
    "layers as such to produce a node-level representation output with shape\n",
    ":math`N \\times F`, where $F$ is the dimension of the output node\n",
    "feature vector.\n",
    "\n",
    "The equation can be efficiently implemented using sparse matrix\n",
    "multiplication kernels (such as Kipf's\n",
    "`pygcn <https://github.com/tkipf/pygcn>`_ code). The above DGL implementation\n",
    "in fact has already used this trick due to the use of builtin functions. To\n",
    "understand what is under the hood, please read our tutorial on :doc:`PageRank <../../basics/3_pagerank>`.\n",
    "\n"
   ]
  },
  {
   "cell_type": "code",
   "execution_count": null,
   "metadata": {},
   "outputs": [],
   "source": []
  },
  {
   "cell_type": "code",
   "execution_count": null,
   "metadata": {},
   "outputs": [],
   "source": []
  },
  {
   "cell_type": "code",
   "execution_count": null,
   "metadata": {},
   "outputs": [],
   "source": []
  },
  {
   "cell_type": "code",
   "execution_count": null,
   "metadata": {},
   "outputs": [],
   "source": []
  },
  {
   "cell_type": "code",
   "execution_count": null,
   "metadata": {},
   "outputs": [],
   "source": []
  },
  {
   "cell_type": "code",
   "execution_count": null,
   "metadata": {},
   "outputs": [],
   "source": []
  },
  {
   "cell_type": "code",
   "execution_count": null,
   "metadata": {},
   "outputs": [],
   "source": []
  },
  {
   "cell_type": "code",
   "execution_count": null,
   "metadata": {},
   "outputs": [],
   "source": []
  }
 ],
 "metadata": {
  "kernelspec": {
   "display_name": "Python 3",
   "language": "python",
   "name": "python3"
  },
  "language_info": {
   "codemirror_mode": {
    "name": "ipython",
    "version": 3
   },
   "file_extension": ".py",
   "mimetype": "text/x-python",
   "name": "python",
   "nbconvert_exporter": "python",
   "pygments_lexer": "ipython3",
   "version": "3.6.7"
  }
 },
 "nbformat": 4,
 "nbformat_minor": 1
}
